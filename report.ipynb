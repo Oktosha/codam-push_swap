{
 "cells": [
  {
   "cell_type": "markdown",
   "id": "d8ecbf1f",
   "metadata": {},
   "source": [
    "# push_swap 42 project\n",
    "\n",
    "See `README.md` for the setup instructions. Don't worry if you don't have the checker, the only problem is that the correctness checks will be skipped.\n",
    "\n",
    "Don't forget to run the cell with imports right below this text if you want to follow along!"
   ]
  },
  {
   "cell_type": "code",
   "execution_count": 11,
   "id": "9057e5a7",
   "metadata": {},
   "outputs": [],
   "source": [
    "import math\n",
    "from plumbum import local\n",
    "from prototypes.merge import dummy_merge_sort_steps\n",
    "from prototypes.radix import dummy_radix_sort_steps, ternary_radix_sort_steps\n",
    "from check import grade"
   ]
  },
  {
   "cell_type": "markdown",
   "id": "699d8fd9",
   "metadata": {},
   "source": [
    "## Task subject (briefly)\n",
    "\n",
    "The goal of this project is to write an algo that produces steps to sort a sequence of numbers (numbers fit integer type and don't repeat). The given numbers are stored in a \"stack\" and you have another such \"stack\" at your disposal. The allowed operations are:\n",
    "\n",
    "+ **sa** (swap a): Swap the first 2 elements at the top of stack a. Do nothing if there is only one or no elements.\n",
    "+ **sb** (swap b): Swap the first 2 elements at the top of stack b. Do nothing if there is only one or no elements.\n",
    "+ **ss** : sa and sb at the same time.\n",
    "+ **pa** (push a): Take the first element at the top of b and put it at the top of a. Do nothing if b is empty.\n",
    "+ **pb** (push b): Take the first element at the top of a and put it at the top of b. Do nothing if a is empty.\n",
    "+ **ra** (rotate a): Shift up all elements of stack a by 1. The first element becomes the last one.\n",
    "+ **rb** (rotate b): Shift up all elements of stack b by 1. The first element becomes the last one.\n",
    "+ **rr** : ra and rb at the same time.\n",
    "+ **rra** (reverse rotate a): Shift down all elements of stack a by 1. The last element becomes the first one.\n",
    "+ **rrb** (reverse rotate b): Shift down all elements of stack b by 1. The last element becomes the first one.\n",
    "+ **rrr** : rra and rrb at the same time.\n",
    "\n",
    "The algo should be written in C. The created source should compile into a binary that takes the contents of the first stack (aka stack a) as a command line parameter (first number on top) and outputs the sorting steps, one step per line. The steps should result in all elements end up in stack a sorted  in ascending order. And you should strive to use as few steps as you can (more details on efficiency below)."
   ]
  },
  {
   "cell_type": "markdown",
   "id": "456f201c",
   "metadata": {},
   "source": [
    "## Example\n",
    "\n",
    "The resulting binary will be called like this\n",
    "\n",
    "```bash\n",
    "ARG=\"2 1 3 6 5 8\"; ./push_swap $ARG\n",
    "```\n",
    "\n",
    "It means that there are 6 numbers in stack a, number 2 is on top. Possible output is\n",
    "\n",
    "```\n",
    "sa\n",
    "pb\n",
    "pb\n",
    "pb\n",
    "sa\n",
    "pa\n",
    "pa\n",
    "pa\n",
    "```"
   ]
  },
  {
   "cell_type": "markdown",
   "id": "a7128b24",
   "metadata": {},
   "source": [
    "## Efficiency requirements\n",
    "\n",
    "I got this part from [another student-generated tutorial](https://medium.com/nerd-for-tech/push-swap-tutorial-fa746e6aba1e), the efficiency requirements aren't stated on the grading system.\n",
    "\n",
    "The passing solution should be properly optimized for small amounts of elements:\n",
    "\n",
    "+ use no more than 3 operations for 3 elements\n",
    "+ use no more than 12 operations for 5 elements\n",
    "\n",
    "The passing solution should also be effective in sorting bigger amounts of elements. Here is the table on how much steps you are allowed to use for each number of points.\n",
    "\n",
    "| number of elements | 5 points | 4 points | 3 points | 2 points | 1 point |\n",
    "|--------------------|----------|----------|----------|----------|---------|\n",
    "| 100                | 700      | 900      | 1100     | 1300     | 1500    |\n",
    "| 500                | 5500     | 7000     | 8500     | 10000    | 11500   |\n",
    "\n",
    "According to unreliable sources it is required to get at least 6 points to pass.\n",
    "\n",
    "There is also a non-explicit requirement on the amount of the processing time the program can use to generate the steps, I assume it is around a second.\n"
   ]
  },
  {
   "cell_type": "markdown",
   "id": "b571defc",
   "metadata": {},
   "source": [
    "## Efficiency observations\n",
    "\n",
    "These requirements really force you to apply a lot of non-asymptotic optimizations to reduce the amount of steps in your output.\n",
    "\n",
    "These requirements don't empathize the value of being asymptotically good.\n",
    "\n",
    "You can be reasonably inefficient generating steps as long as you don't generate that many steps.\n",
    "\n",
    "The amount of steps can't be lower than $Nlog_{k}N$ asymptotically, where $N$ is the length of the input sequence and $k = 11$ is the number of available operations each step."
   ]
  },
  {
   "cell_type": "markdown",
   "id": "4eb3cb49",
   "metadata": {},
   "source": [
    "### Proof for the solution length lower bound\n",
    "\n",
    "For two different input sequences of the same length the answers should be different.\n",
    "\n",
    "Number of possible input sequences with length $N$ is $N!$\n",
    "\n",
    "Number of possible sorting sequences no longer then $w$ is $k^0 + k^1 + k^2 + ... + k^w$.\n",
    "\n",
    "So we can get a lower bound for $w$ from:\n",
    "\n",
    "$k^0 + k^1 + k^2 + ... + k^w \\ge N!$\n",
    "\n",
    "Given the lower bound for factorial:\n",
    "\n",
    "$N! \\ge \\left(\\frac{n}{e}\\right)^n$\n",
    "\n",
    "And given that $k = 11$ i. e. $k > 2$\n",
    "\n",
    "$2 \\cdot k ^ w \\ge k^0 + k^1 + k^2 + ... + k^w$\n",
    "\n",
    "it means\n",
    "\n",
    "$2 \\cdot k ^ w \\ge \\left(\\frac{n}{e}\\right)^n$\n",
    "\n",
    "let's take logarithm from both sides\n",
    "\n",
    "$ln(2) + w \\cdot ln(k) \\ge n(ln(n) - ln(e))$\n",
    "\n",
    "more transformations\n",
    "\n",
    "$w \\cdot ln(k) \\ge n \\cdot ln(n) - n - ln(2)$\n",
    "\n",
    "$w \\ge n \\cdot \\frac{ln(n)}{ln(k)} - \\frac{n - ln(2)}{ln(k)}$\n",
    "\n",
    "$w \\ge n \\cdot ln_k(n) - \\frac{n - ln(2)}{ln(k)}$\n",
    "\n",
    "$w \\ge n \\cdot ln_k(n) - O(n)$\n",
    "\n",
    "The idea of the proof was taken from [here](https://doi.org/10.1016/j.dam.2010.06.007)"
   ]
  },
  {
   "cell_type": "markdown",
   "id": "7af47ca5",
   "metadata": {},
   "source": [
    "### Calculating the solution length lower bound\n",
    "\n",
    "Out of curiosity we can print the estimate based on this formula"
   ]
  },
  {
   "cell_type": "code",
   "execution_count": 4,
   "id": "6a456aeb",
   "metadata": {},
   "outputs": [
    {
     "name": "stdout",
     "output_type": "stream",
     "text": [
      "Minimal worst case scenario sorting length\n",
      "   0: 0\n",
      "   1: 0\n",
      "   2: 1\n",
      "   3: 1\n",
      "   4: 2\n",
      "   5: 2\n",
      "   6: 3\n",
      "   7: 4\n",
      "   8: 5\n",
      "   9: 6\n",
      "  10: 7\n",
      " 100: 152\n",
      " 500: 1089\n",
      "1000: 2466\n"
     ]
    }
   ],
   "source": [
    "def estimate_min_worst_case_length(data_length: int) -> int:\n",
    "    n_possible_input_sequences = math.factorial(data_length)\n",
    "    n_answer_sequences = 1\n",
    "    min_worst_case_length = 0\n",
    "    possible_operations = 11\n",
    "    while n_answer_sequences < n_possible_input_sequences:\n",
    "        min_worst_case_length += 1\n",
    "        n_answer_sequences += possible_operations ** min_worst_case_length\n",
    "    return min_worst_case_length\n",
    "\n",
    "print(\"Minimal worst case scenario sorting length\")\n",
    "for i in range(11):\n",
    "    print(f\"{i:4}: {estimate_min_worst_case_length(i)}\")\n",
    "print(f\"{100:4}: {estimate_min_worst_case_length(100)}\")\n",
    "print(f\"{500:4}: {estimate_min_worst_case_length(500)}\")\n",
    "print(f\"{1000:4}: {estimate_min_worst_case_length(1000)}\")"
   ]
  },
  {
   "cell_type": "markdown",
   "id": "0da0fc63",
   "metadata": {},
   "source": [
    "As we can notice this estimate is growing as expected and the difference between it and the requirements isn't that big."
   ]
  },
  {
   "cell_type": "markdown",
   "id": "4de4bdac",
   "metadata": {},
   "source": [
    "## Small sequences optimization\n",
    "\n",
    "I use dynamic programming to find optimal answers for short sequences. The idea is to look at all the possible states with the data of this length and find the shortest paths to the sorted state from every state. One can call it BFS on the states graph instead of DP.\n",
    "\n",
    "First type of short sequence is the sequence that forms the whole input data.\n",
    "The solutions are in prototypes/small/solutions/whole. Each file corresponds to length.\n",
    "\n",
    "**TODO:** replace examples of sequences + answers by printing actual generated answers for sequences\n",
    "\n",
    "```\n",
    "0 1 2\n",
    "0 2 1\n",
    "\n",
    "```\n",
    "\n",
    "\n",
    "\n",
    "\n",
    "```\n",
    "0 1 2 ... ra ra ra\n",
    "0 2 1 ... ra sa ra ra\n",
    "1 0 2 ... sa ra ra ra\n",
    "1 2 0 ... ra ra ra\n",
    "2 0 1 ... pb ra ra pa ra\n",
    "2 1 0 ... pb pb ra pa ra pa ra\n",
    "\n",
    "... 0 1 2 rra rra rra\n",
    "\n",
    "4 5 ... 3 - 2 1 0 rra pa pa pa \n",
    "```"
   ]
  },
  {
   "cell_type": "markdown",
   "id": "88ea5f2b",
   "metadata": {},
   "source": [
    "## Algo comparison"
   ]
  },
  {
   "cell_type": "markdown",
   "id": "832ebf1c",
   "metadata": {},
   "source": [
    "So far finished algo's are dummy merge sort, dummy radix sort and ternary radix sort"
   ]
  },
  {
   "cell_type": "code",
   "execution_count": 12,
   "id": "c05bb9d3",
   "metadata": {},
   "outputs": [
    {
     "name": "stdout",
     "output_type": "stream",
     "text": [
      "dummy_merge_sort_steps: 3=[OK] 15; 5=[OK] 39; 100=[OK] 1816; 500=[OK] 11328; 1000=[OK] 25156; \n",
      "dummy_radix_sort_steps: 3=[OK] 10; 5=[OK] 25; 100=[OK] 1084; 500=[OK] 6784; 1000=[OK] 15068; \n",
      "ternary_radix_sort_steps: 3=[OK] 6; 5=[OK] 16; 100=[OK] 898; 500=[OK] 6020; 1000=[OK] 13379; \n"
     ]
    }
   ],
   "source": [
    "for algo in [dummy_merge_sort_steps, dummy_radix_sort_steps, ternary_radix_sort_steps]:\n",
    "    print(algo.__name__, end=\": \")\n",
    "    for count in [3, 5, 100, 500, 1000]:\n",
    "        data = list(reversed(range(count)))\n",
    "        current_grade = grade(data, algo(data))\n",
    "        print(f\"{count}={current_grade}\", end=\"; \")\n",
    "    print()"
   ]
  },
  {
   "cell_type": "code",
   "execution_count": 6,
   "id": "a0ad7d3e",
   "metadata": {},
   "outputs": [],
   "source": [
    "cat = local[\"cat\"]"
   ]
  },
  {
   "cell_type": "code",
   "execution_count": 4,
   "id": "b03dcc8a",
   "metadata": {},
   "outputs": [],
   "source": [
    "\n",
    "import matplotlib.pyplot as plt\n",
    "from tqdm.notebook import tqdm\n",
    "from itertools import permutations\n",
    "from typing import Callable\n",
    "from check import grade\n",
    "import cProfile\n",
    "from prototypes.merge import dummy_merge_sort_steps\n",
    "from prototypes.radix import dummy_radix_sort_steps"
   ]
  },
  {
   "cell_type": "markdown",
   "id": "42aee270",
   "metadata": {},
   "source": [
    "## All sequences with lengths 1-8"
   ]
  },
  {
   "cell_type": "code",
   "execution_count": 2,
   "id": "bf204779",
   "metadata": {},
   "outputs": [],
   "source": [
    "def run_all_up_to_max_len(algo: Callable[[list[int]], list[str]], max_len) -> list[int]:\n",
    "    print(f\"Grading {algo.__name__} on all permutations of lengths 1..{max_len}\")\n",
    "    worst_case_steps = [0 for _ in range(max_len + 1)]\n",
    "    for data_len in tqdm(range(1, max_len + 1), desc=\"data length\"):\n",
    "        for data in tqdm(permutations([x for x in range(data_len)]),\n",
    "                         desc=f\"permutations for len {data_len}\",\n",
    "                         total=math.factorial(data_len)):\n",
    "            solution = algo(data)\n",
    "            res = grade(data, solution)\n",
    "            if res.correctness == False:\n",
    "                print(f\"Error sorting {data} with {algo.__name__}\")\n",
    "            if res.length > worst_case_steps[data_len]:\n",
    "                worst_case_steps[data_len] = res.length\n",
    "    return worst_case_steps"
   ]
  },
  {
   "cell_type": "markdown",
   "id": "8ff431df",
   "metadata": {},
   "source": [
    "## Reversed sequences"
   ]
  },
  {
   "cell_type": "code",
   "execution_count": 3,
   "id": "9f4c9b90",
   "metadata": {},
   "outputs": [],
   "source": [
    "# generates tuple (x, y) for pyplot\n",
    "# x is lengths\n",
    "# y is numbers of steps to sort reversed sequence of this length\n",
    "# start = minimum length, inclusive\n",
    "# end = maximum length, inclusive\n",
    "# inc = distance between lengths\n",
    "def run_reversed(algo: Callable[[list[int]], list[str]], start, end, inc) -> list[int]:\n",
    "    print(f\"Grading {algo.__name__} on reversed sequences of length {start}..{end} with step {inc}\")\n",
    "    steps = []\n",
    "    lens = []\n",
    "    for data_len in tqdm(range(start, end + 1, inc), desc=\"data length\"):\n",
    "        data = list(reversed([x for x in range(data_len)]))\n",
    "        solution = algo(data)\n",
    "        steps.append(len(solution))\n",
    "        lens.append(data_len)\n",
    "    return (lens, steps)"
   ]
  },
  {
   "cell_type": "markdown",
   "id": "ffb53fe6",
   "metadata": {},
   "source": [
    "## Dummy merge sort"
   ]
  },
  {
   "cell_type": "code",
   "execution_count": 6,
   "id": "e05b91eb",
   "metadata": {},
   "outputs": [
    {
     "name": "stdout",
     "output_type": "stream",
     "text": [
      "         12339806 function calls in 3.093 seconds\n",
      "\n",
      "   Ordered by: standard name\n",
      "\n",
      "   ncalls  tottime  percall  cumtime  percall filename:lineno(function)\n",
      "        1    0.008    0.008    3.093    3.093 <string>:1(<module>)\n",
      "        1    2.082    2.082    3.086    3.086 merge.py:3(dummy_merge_sort_steps)\n",
      "        1    0.000    0.000    3.093    3.093 {built-in method builtins.exec}\n",
      "  2670960    0.212    0.000    0.212    0.000 {built-in method builtins.len}\n",
      "   200012    0.046    0.000    0.046    0.000 {built-in method builtins.min}\n",
      "  2570960    0.211    0.000    0.211    0.000 {method 'append' of 'collections.deque' objects}\n",
      "  4326896    0.330    0.000    0.330    0.000 {method 'append' of 'list' objects}\n",
      "        1    0.000    0.000    0.000    0.000 {method 'disable' of '_lsprof.Profiler' objects}\n",
      "        7    0.000    0.000    0.000    0.000 {method 'extend' of 'list' objects}\n",
      "  2570960    0.205    0.000    0.205    0.000 {method 'popleft' of 'collections.deque' objects}\n",
      "        7    0.000    0.000    0.000    0.000 {method 'rotate' of 'collections.deque' objects}\n",
      "\n",
      "\n"
     ]
    }
   ],
   "source": [
    "data = list(reversed([x for x in range(100000)]))\n",
    "cProfile.run('dummy_merge_sort_steps(data)')"
   ]
  },
  {
   "cell_type": "code",
   "execution_count": null,
   "id": "a5f7c2cf",
   "metadata": {},
   "outputs": [
    {
     "name": "stdout",
     "output_type": "stream",
     "text": [
      "Grading dummy_merge_sort_steps on all permutations of lengths 1..8\n"
     ]
    },
    {
     "data": {
      "application/vnd.jupyter.widget-view+json": {
       "model_id": "fe5017509b8946fda50350ba24cdb9f9",
       "version_major": 2,
       "version_minor": 0
      },
      "text/plain": [
       "data length:   0%|          | 0/8 [00:00<?, ?it/s]"
      ]
     },
     "metadata": {},
     "output_type": "display_data"
    },
    {
     "data": {
      "application/vnd.jupyter.widget-view+json": {
       "model_id": "28e74bf789cd402cadd8ec3f17c86228",
       "version_major": 2,
       "version_minor": 0
      },
      "text/plain": [
       "permutations for len 1:   0%|          | 0/1 [00:00<?, ?it/s]"
      ]
     },
     "metadata": {},
     "output_type": "display_data"
    },
    {
     "data": {
      "application/vnd.jupyter.widget-view+json": {
       "model_id": "3ca75b452172421f8650844c431bb05c",
       "version_major": 2,
       "version_minor": 0
      },
      "text/plain": [
       "permutations for len 2:   0%|          | 0/2 [00:00<?, ?it/s]"
      ]
     },
     "metadata": {},
     "output_type": "display_data"
    },
    {
     "data": {
      "application/vnd.jupyter.widget-view+json": {
       "model_id": "b946b4803c104fa48426ff657a0ce74d",
       "version_major": 2,
       "version_minor": 0
      },
      "text/plain": [
       "permutations for len 3:   0%|          | 0/6 [00:00<?, ?it/s]"
      ]
     },
     "metadata": {},
     "output_type": "display_data"
    },
    {
     "data": {
      "application/vnd.jupyter.widget-view+json": {
       "model_id": "14740f0e2f4d4e65bbd50c39a355122c",
       "version_major": 2,
       "version_minor": 0
      },
      "text/plain": [
       "permutations for len 4:   0%|          | 0/24 [00:00<?, ?it/s]"
      ]
     },
     "metadata": {},
     "output_type": "display_data"
    },
    {
     "data": {
      "application/vnd.jupyter.widget-view+json": {
       "model_id": "f338608a342f4d35932f7c0e5a6582bf",
       "version_major": 2,
       "version_minor": 0
      },
      "text/plain": [
       "permutations for len 5:   0%|          | 0/120 [00:00<?, ?it/s]"
      ]
     },
     "metadata": {},
     "output_type": "display_data"
    },
    {
     "data": {
      "application/vnd.jupyter.widget-view+json": {
       "model_id": "1db65377481147aa8bb7f3f93ea24328",
       "version_major": 2,
       "version_minor": 0
      },
      "text/plain": [
       "permutations for len 6:   0%|          | 0/720 [00:00<?, ?it/s]"
      ]
     },
     "metadata": {},
     "output_type": "display_data"
    },
    {
     "data": {
      "application/vnd.jupyter.widget-view+json": {
       "model_id": "51d3a31ac9bd41e493a8e788b5b2386c",
       "version_major": 2,
       "version_minor": 0
      },
      "text/plain": [
       "permutations for len 7:   0%|          | 0/5040 [00:00<?, ?it/s]"
      ]
     },
     "metadata": {},
     "output_type": "display_data"
    }
   ],
   "source": [
    "dummy_merge_sort_on_small_data = run_all_up_to_max_len(dummy_merge_sort_steps, 8)"
   ]
  },
  {
   "cell_type": "code",
   "execution_count": 3,
   "id": "95358677",
   "metadata": {},
   "outputs": [
    {
     "name": "stdout",
     "output_type": "stream",
     "text": [
      "Grading dummy_merge_sort_steps on all reversed sequences of length 1..1000000\n"
     ]
    },
    {
     "data": {
      "application/vnd.jupyter.widget-view+json": {
       "model_id": "ea67847823cb4af3a881aeeb461d9b4c",
       "version_major": 2,
       "version_minor": 0
      },
      "text/plain": [
       "data length:   0%|          | 0/200 [00:00<?, ?it/s]"
      ]
     },
     "metadata": {},
     "output_type": "display_data"
    }
   ],
   "source": [
    "x, y = run_reversed(dummy_merge_sort_steps, 1, 10**6, 5000)"
   ]
  },
  {
   "cell_type": "code",
   "execution_count": 4,
   "id": "20e98da6",
   "metadata": {},
   "outputs": [
    {
     "data": {
      "text/plain": [
       "[<matplotlib.lines.Line2D at 0x117341df0>]"
      ]
     },
     "execution_count": 4,
     "metadata": {},
     "output_type": "execute_result"
    },
    {
     "data": {
      "image/png": "[encoded data removed]",
      "text/plain": [
       "<Figure size 640x480 with 1 Axes>"
      ]
     },
     "metadata": {},
     "output_type": "display_data"
    }
   ],
   "source": [
    "plt.plot(x, y)"
   ]
  },
  {
   "cell_type": "code",
   "execution_count": 5,
   "id": "1f1d2527",
   "metadata": {},
   "outputs": [
    {
     "name": "stdout",
     "output_type": "stream",
     "text": [
      "50037840\n"
     ]
    }
   ],
   "source": [
    "print(y[-1])"
   ]
  },
  {
   "cell_type": "markdown",
   "id": "2f3cefc6",
   "metadata": {},
   "source": [
    "## Dummy radix sort"
   ]
  },
  {
   "cell_type": "code",
   "execution_count": 7,
   "id": "ae774dbf",
   "metadata": {},
   "outputs": [
    {
     "name": "stdout",
     "output_type": "stream",
     "text": [
      "[OK] 25\n"
     ]
    }
   ],
   "source": [
    "data = [5, 4, 3, 2, 1]\n",
    "solution = dummy_radix_sort_steps(data)\n",
    "print(grade(data, solution))"
   ]
  },
  {
   "cell_type": "code",
   "execution_count": 10,
   "id": "b6062465",
   "metadata": {},
   "outputs": [
    {
     "name": "stdout",
     "output_type": "stream",
     "text": [
      "Grading dummy_radix_sort_steps on all permutations of lengths 1..7\n"
     ]
    },
    {
     "data": {
      "application/vnd.jupyter.widget-view+json": {
       "model_id": "2625f34366c345aca9199df18275ada5",
       "version_major": 2,
       "version_minor": 0
      },
      "text/plain": [
       "data length:   0%|          | 0/7 [00:00<?, ?it/s]"
      ]
     },
     "metadata": {},
     "output_type": "display_data"
    },
    {
     "data": {
      "application/vnd.jupyter.widget-view+json": {
       "model_id": "957219f0edcb43f1a09485deb998e14c",
       "version_major": 2,
       "version_minor": 0
      },
      "text/plain": [
       "permutations for len 1:   0%|          | 0/1 [00:00<?, ?it/s]"
      ]
     },
     "metadata": {},
     "output_type": "display_data"
    },
    {
     "data": {
      "application/vnd.jupyter.widget-view+json": {
       "model_id": "6a928fabe6f94df997e3e8181ae470b9",
       "version_major": 2,
       "version_minor": 0
      },
      "text/plain": [
       "permutations for len 2:   0%|          | 0/2 [00:00<?, ?it/s]"
      ]
     },
     "metadata": {},
     "output_type": "display_data"
    },
    {
     "data": {
      "application/vnd.jupyter.widget-view+json": {
       "model_id": "f6307ae348a24a3e9f2959162a12be54",
       "version_major": 2,
       "version_minor": 0
      },
      "text/plain": [
       "permutations for len 3:   0%|          | 0/6 [00:00<?, ?it/s]"
      ]
     },
     "metadata": {},
     "output_type": "display_data"
    },
    {
     "data": {
      "application/vnd.jupyter.widget-view+json": {
       "model_id": "c06c614dafad4b20b440c315a2403bfc",
       "version_major": 2,
       "version_minor": 0
      },
      "text/plain": [
       "permutations for len 4:   0%|          | 0/24 [00:00<?, ?it/s]"
      ]
     },
     "metadata": {},
     "output_type": "display_data"
    },
    {
     "data": {
      "application/vnd.jupyter.widget-view+json": {
       "model_id": "160a851f7cd346ebb7e2f3da9985a729",
       "version_major": 2,
       "version_minor": 0
      },
      "text/plain": [
       "permutations for len 5:   0%|          | 0/120 [00:00<?, ?it/s]"
      ]
     },
     "metadata": {},
     "output_type": "display_data"
    },
    {
     "data": {
      "application/vnd.jupyter.widget-view+json": {
       "model_id": "703fe67a49be4890a523d33d0fa17d36",
       "version_major": 2,
       "version_minor": 0
      },
      "text/plain": [
       "permutations for len 6:   0%|          | 0/720 [00:00<?, ?it/s]"
      ]
     },
     "metadata": {},
     "output_type": "display_data"
    },
    {
     "data": {
      "application/vnd.jupyter.widget-view+json": {
       "model_id": "b858e19b01224839ade190fb7a068e6e",
       "version_major": 2,
       "version_minor": 0
      },
      "text/plain": [
       "permutations for len 7:   0%|          | 0/5040 [00:00<?, ?it/s]"
      ]
     },
     "metadata": {},
     "output_type": "display_data"
    }
   ],
   "source": [
    "radix_small_steps = run_all_up_to_max_len(dummy_radix_sort_steps, 7)"
   ]
  },
  {
   "cell_type": "code",
   "execution_count": 11,
   "id": "c009e1dd",
   "metadata": {},
   "outputs": [
    {
     "name": "stdout",
     "output_type": "stream",
     "text": [
      "[0, 2, 7, 10, 20, 25, 29, 33]\n"
     ]
    }
   ],
   "source": [
    "print(radix_small_steps)"
   ]
  },
  {
   "cell_type": "code",
   "execution_count": 12,
   "id": "15f8a8d6",
   "metadata": {},
   "outputs": [
    {
     "name": "stdout",
     "output_type": "stream",
     "text": [
      "Grading dummy_radix_sort_steps on all reversed sequences of length 1..500\n"
     ]
    },
    {
     "data": {
      "application/vnd.jupyter.widget-view+json": {
       "model_id": "655399ac09394ee18ad12a1d9a11ebb8",
       "version_major": 2,
       "version_minor": 0
      },
      "text/plain": [
       "data length:   0%|          | 0/10 [00:00<?, ?it/s]"
      ]
     },
     "metadata": {},
     "output_type": "display_data"
    }
   ],
   "source": [
    "radix_x, radix_y = run_reversed(dummy_radix_sort_steps, 50, 500, 50)"
   ]
  },
  {
   "cell_type": "code",
   "execution_count": 13,
   "id": "65d980b4",
   "metadata": {},
   "outputs": [
    {
     "data": {
      "text/plain": [
       "[<matplotlib.lines.Line2D at 0x116067850>]"
      ]
     },
     "execution_count": 13,
     "metadata": {},
     "output_type": "execute_result"
    },
    {
     "data": {
      "image/png": "[encoded data removed]",
      "text/plain": [
       "<Figure size 640x480 with 1 Axes>"
      ]
     },
     "metadata": {},
     "output_type": "display_data"
    }
   ],
   "source": [
    "plt.plot(radix_x, radix_y)"
   ]
  },
  {
   "cell_type": "code",
   "execution_count": 14,
   "id": "fda42d00",
   "metadata": {},
   "outputs": [
    {
     "name": "stdout",
     "output_type": "stream",
     "text": [
      "  3: 10\n",
      "  5: 25\n",
      "100: 1084\n",
      "500: 6784\n"
     ]
    }
   ],
   "source": [
    "print(\"  3:\", radix_small_steps[3])\n",
    "print(\"  5:\", radix_small_steps[5])\n",
    "print(f\"{radix_x[1]}: {radix_y[1]}\")\n",
    "print(f\"{radix_x[-1]}: {radix_y[-1]}\")"
   ]
  },
  {
   "cell_type": "markdown",
   "id": "ed18fe36",
   "metadata": {},
   "source": [
    "## TODO\n",
    "\n",
    "algos to implement:\n",
    "- [ ] Quick sort\n",
    "- [x] Dummy merge sort\n",
    "- [ ] Optimized split in halves for merge sort\n",
    "- [ ] Short sequences optimizations for merge sort\n",
    "- [x] Dummy radix, see [tutorial](https://medium.com/nerd-for-tech/push-swap-tutorial-fa746e6aba1e) by Leo Fu\n",
    "- [x] Ternary radix\n",
    "- [ ] Short sequences optimizations for radix (i. e. radix sort on higher digits and fix order inside the group)\n",
    "- [ ] [Mechanical turk sort](https://medium.com/@ayogun/push-swap-c1f5d2d41e97) by A. Yigit Ogun\n",
    "- [ ] Sort by [Jamie Dawson](https://medium.com/@jamierobertdawson/push-swap-the-least-amount-of-moves-with-two-stacks-d1e76a71789a)\n",
    "- [ ] Sort by [Mohamed Y. souiyeh](https://medium.com/@msouiyeh/not-your-typical-42network-push-swap-cc583f863a90)\n",
    "- [ ] Sort by [Luca Fischer](https://medium.com/@lucafischer_11396/two-stacks-one-goal-understanding-the-push-swap-algorithm-e08e5986f657)"
   ]
  }
 ],
 "metadata": {
  "kernelspec": {
   "display_name": "Python 3 (ipykernel)",
   "language": "python",
   "name": "python3"
  },
  "language_info": {
   "codemirror_mode": {
    "name": "ipython",
    "version": 3
   },
   "file_extension": ".py",
   "mimetype": "text/x-python",
   "name": "python",
   "nbconvert_exporter": "python",
   "pygments_lexer": "ipython3",
   "version": "3.9.1"
  }
 },
 "nbformat": 4,
 "nbformat_minor": 5
}
